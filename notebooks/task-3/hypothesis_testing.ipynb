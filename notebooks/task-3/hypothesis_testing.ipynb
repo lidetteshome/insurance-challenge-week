{
 "cells": [
  {
   "cell_type": "code",
   "execution_count": 2,
   "id": "2c72a101",
   "metadata": {},
   "outputs": [],
   "source": [
    "# 📊 Imports and Setup\n",
    "import pandas as pd\n",
    "import sys\n",
    "import os\n",
    "sys.path.append('../../scripts/task-3')\n",
    "from ab_testing_utils import *"
   ]
  },
  {
   "cell_type": "code",
   "execution_count": 3,
   "id": "5ed3f346",
   "metadata": {},
   "outputs": [
    {
     "name": "stderr",
     "output_type": "stream",
     "text": [
      "/var/folders/cg/vq8tmr4540d4j652btyymbt40000gn/T/ipykernel_18931/671528986.py:2: DtypeWarning: Columns (32,37) have mixed types. Specify dtype option on import or set low_memory=False.\n",
      "  df = pd.read_csv('../../data/MachineLearningRating_v3.csv')\n"
     ]
    }
   ],
   "source": [
    "# Load your dataset\n",
    "df = pd.read_csv('../../data/MachineLearningRating_v3.csv')"
   ]
  },
  {
   "cell_type": "code",
   "execution_count": 4,
   "id": "b331c389",
   "metadata": {},
   "outputs": [
    {
     "data": {
      "application/vnd.microsoft.datawrangler.viewer.v0+json": {
       "columns": [
        {
         "name": "index",
         "rawType": "object",
         "type": "string"
        },
        {
         "name": "ClaimFrequency",
         "rawType": "float64",
         "type": "float"
        },
        {
         "name": "Margin",
         "rawType": "float64",
         "type": "float"
        }
       ],
       "ref": "f0fb79d8-ad4d-42d3-b2bf-da1f3c114b56",
       "rows": [
        [
         "count",
         "1000098.0",
         "1000098.0"
        ],
        [
         "mean",
         "0.002787726802773328",
         "-2.955693815674662"
        ],
        [
         "std",
         "0.052725308550374377",
         "2367.13654694474"
        ],
        [
         "min",
         "0.0",
         "-392848.5669667"
        ],
        [
         "25%",
         "0.0",
         "0.0"
        ],
        [
         "50%",
         "0.0",
         "2.157686757"
        ],
        [
         "75%",
         "0.0",
         "21.92982456"
        ],
        [
         "max",
         "1.0",
         "65282.60342"
        ]
       ],
       "shape": {
        "columns": 2,
        "rows": 8
       }
      },
      "text/html": [
       "<div>\n",
       "<style scoped>\n",
       "    .dataframe tbody tr th:only-of-type {\n",
       "        vertical-align: middle;\n",
       "    }\n",
       "\n",
       "    .dataframe tbody tr th {\n",
       "        vertical-align: top;\n",
       "    }\n",
       "\n",
       "    .dataframe thead th {\n",
       "        text-align: right;\n",
       "    }\n",
       "</style>\n",
       "<table border=\"1\" class=\"dataframe\">\n",
       "  <thead>\n",
       "    <tr style=\"text-align: right;\">\n",
       "      <th></th>\n",
       "      <th>ClaimFrequency</th>\n",
       "      <th>Margin</th>\n",
       "    </tr>\n",
       "  </thead>\n",
       "  <tbody>\n",
       "    <tr>\n",
       "      <th>count</th>\n",
       "      <td>1.000098e+06</td>\n",
       "      <td>1.000098e+06</td>\n",
       "    </tr>\n",
       "    <tr>\n",
       "      <th>mean</th>\n",
       "      <td>2.787727e-03</td>\n",
       "      <td>-2.955694e+00</td>\n",
       "    </tr>\n",
       "    <tr>\n",
       "      <th>std</th>\n",
       "      <td>5.272531e-02</td>\n",
       "      <td>2.367137e+03</td>\n",
       "    </tr>\n",
       "    <tr>\n",
       "      <th>min</th>\n",
       "      <td>0.000000e+00</td>\n",
       "      <td>-3.928486e+05</td>\n",
       "    </tr>\n",
       "    <tr>\n",
       "      <th>25%</th>\n",
       "      <td>0.000000e+00</td>\n",
       "      <td>0.000000e+00</td>\n",
       "    </tr>\n",
       "    <tr>\n",
       "      <th>50%</th>\n",
       "      <td>0.000000e+00</td>\n",
       "      <td>2.157687e+00</td>\n",
       "    </tr>\n",
       "    <tr>\n",
       "      <th>75%</th>\n",
       "      <td>0.000000e+00</td>\n",
       "      <td>2.192982e+01</td>\n",
       "    </tr>\n",
       "    <tr>\n",
       "      <th>max</th>\n",
       "      <td>1.000000e+00</td>\n",
       "      <td>6.528260e+04</td>\n",
       "    </tr>\n",
       "  </tbody>\n",
       "</table>\n",
       "</div>"
      ],
      "text/plain": [
       "       ClaimFrequency        Margin\n",
       "count    1.000098e+06  1.000098e+06\n",
       "mean     2.787727e-03 -2.955694e+00\n",
       "std      5.272531e-02  2.367137e+03\n",
       "min      0.000000e+00 -3.928486e+05\n",
       "25%      0.000000e+00  0.000000e+00\n",
       "50%      0.000000e+00  2.157687e+00\n",
       "75%      0.000000e+00  2.192982e+01\n",
       "max      1.000000e+00  6.528260e+04"
      ]
     },
     "execution_count": 4,
     "metadata": {},
     "output_type": "execute_result"
    }
   ],
   "source": [
    "# 🧮 Calculate KPIs\n",
    "df = calculate_kpis(df)\n",
    "df[['ClaimFrequency', 'Margin']].describe()"
   ]
  },
  {
   "cell_type": "code",
   "execution_count": 5,
   "id": "76d5cd16",
   "metadata": {},
   "outputs": [
    {
     "name": "stdout",
     "output_type": "stream",
     "text": [
      "\n",
      "🔍 A/B Test Result\n",
      "--------------------------\n",
      "group_a: Male\n",
      "group_b: Female\n",
      "metric: TotalClaims\n",
      "mean_a: 14858.55229350532\n",
      "mean_b: 17874.721303842856\n",
      "p_value: 0.5680286950586645\n",
      "test: Welch's T-test\n",
      "reject_null: False\n",
      "--------------------------\n"
     ]
    }
   ],
   "source": [
    "# 🧪 T-Test: Claim Severity between Males and Females\n",
    "severity_test = compare_groups_ttest(\n",
    "    df[df['TotalClaims'] > 0],\n",
    "    group_col='Gender',\n",
    "    metric_col='TotalClaims',\n",
    "    group_a='Male',\n",
    "    group_b='Female'\n",
    ")\n",
    "print_test_result(severity_test)"
   ]
  },
  {
   "cell_type": "code",
   "execution_count": 6,
   "id": "4b12d016",
   "metadata": {},
   "outputs": [
    {
     "name": "stdout",
     "output_type": "stream",
     "text": [
      "\n",
      "🔍 A/B Test Result\n",
      "--------------------------\n",
      "group_a: Male\n",
      "group_b: Female\n",
      "condition: ClaimOccurred\n",
      "p_value: 0.9514644755420456\n",
      "test: Chi-squared Test\n",
      "reject_null: False\n",
      "--------------------------\n"
     ]
    }
   ],
   "source": [
    "# 🧪 Chi-Square: Claim Frequency between Males and Females\n",
    "freq_test = compare_groups_chi2(\n",
    "    df,\n",
    "    group_col='Gender',\n",
    "    condition_col='ClaimOccurred',\n",
    "    group_a='Male',\n",
    "    group_b='Female'\n",
    ")\n",
    "print_test_result(freq_test)"
   ]
  },
  {
   "cell_type": "code",
   "execution_count": 7,
   "id": "47bce570",
   "metadata": {},
   "outputs": [
    {
     "name": "stdout",
     "output_type": "stream",
     "text": [
      "\n",
      "🔍 A/B Test Result\n",
      "--------------------------\n",
      "group_a: 1234\n",
      "group_b: 5678\n",
      "metric: Margin\n",
      "mean_a: nan\n",
      "mean_b: nan\n",
      "p_value: nan\n",
      "test: Welch's T-test\n",
      "reject_null: False\n",
      "--------------------------\n"
     ]
    },
    {
     "name": "stderr",
     "output_type": "stream",
     "text": [
      "/Users/yosephabate/Documents/PERSONAL PROFESSIONAL/KIFIYA/WEEK 3/TECHNICAL/GITHUB/insurance-challenge-week/.venv/lib/python3.12/site-packages/scipy/_lib/deprecation.py:234: SmallSampleWarning: One or more sample arguments is too small; all returned values will be NaN. See documentation for sample size requirements.\n",
      "  return f(*args, **kwargs)\n"
     ]
    }
   ],
   "source": [
    "# 🧪 T-Test: Margin across two zip codes\n",
    "zip_test = compare_groups_ttest(\n",
    "    df,\n",
    "    group_col='PostalCode',\n",
    "    metric_col='Margin',\n",
    "    group_a=1234,  # replace with real zip\n",
    "    group_b=5678   # replace with real zip\n",
    ")\n",
    "print_test_result(zip_test)"
   ]
  },
  {
   "cell_type": "code",
   "execution_count": null,
   "id": "d06a67dd",
   "metadata": {},
   "outputs": [],
   "source": [
    "# 📈 Summary and Business Implications\n",
    "# Replace this with markdown interpretations\n",
    "# - Which hypotheses are rejected?\n",
    "# - How can this influence pricing strategy?\n",
    "# - What are your recommendations?"
   ]
  }
 ],
 "metadata": {
  "kernelspec": {
   "display_name": ".venv",
   "language": "python",
   "name": "python3"
  },
  "language_info": {
   "codemirror_mode": {
    "name": "ipython",
    "version": 3
   },
   "file_extension": ".py",
   "mimetype": "text/x-python",
   "name": "python",
   "nbconvert_exporter": "python",
   "pygments_lexer": "ipython3",
   "version": "3.12.2"
  }
 },
 "nbformat": 4,
 "nbformat_minor": 5
}
