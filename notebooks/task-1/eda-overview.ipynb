{
 "cells": [
  {
   "cell_type": "code",
   "execution_count": 1,
   "id": "1b35aea1",
   "metadata": {},
   "outputs": [],
   "source": [
    "# Cell 1: Imports\n",
    "import pandas as pd\n",
    "import matplotlib.pyplot as plt\n",
    "import seaborn as sns\n",
    "import sys\n",
    "import os"
   ]
  },
  {
   "cell_type": "code",
   "execution_count": 2,
   "id": "cde66891",
   "metadata": {},
   "outputs": [],
   "source": [
    "# Add the path to scripts for importing eda_utils\n",
    "sys.path.append(os.path.abspath('../../scripts/task-1/'))\n",
    "from eda_utils import *"
   ]
  },
  {
   "cell_type": "code",
   "execution_count": 3,
   "id": "2f9306bd",
   "metadata": {},
   "outputs": [],
   "source": [
    "# Set plot style\n",
    "sns.set(style=\"whitegrid\", palette=\"pastel\")"
   ]
  },
  {
   "cell_type": "code",
   "execution_count": 4,
   "id": "edd466cb",
   "metadata": {},
   "outputs": [
    {
     "name": "stderr",
     "output_type": "stream",
     "text": [
      "/Users/yosephabate/Documents/PERSONAL PROFESSIONAL/KIFIYA/WEEK 3/TECHNICAL/GITHUB/insurance-challenge-week/scripts/task-1/eda_utils.py:10: DtypeWarning: Columns (32,37) have mixed types. Specify dtype option on import or set low_memory=False.\n",
      "  return pd.read_csv(filepath)\n"
     ]
    },
    {
     "data": {
      "application/vnd.microsoft.datawrangler.viewer.v0+json": {
       "columns": [
        {
         "name": "index",
         "rawType": "int64",
         "type": "integer"
        },
        {
         "name": "UnderwrittenCoverID",
         "rawType": "int64",
         "type": "integer"
        },
        {
         "name": "PolicyID",
         "rawType": "int64",
         "type": "integer"
        },
        {
         "name": "TransactionMonth",
         "rawType": "object",
         "type": "string"
        },
        {
         "name": "IsVATRegistered",
         "rawType": "bool",
         "type": "boolean"
        },
        {
         "name": "Citizenship",
         "rawType": "object",
         "type": "string"
        },
        {
         "name": "LegalType",
         "rawType": "object",
         "type": "string"
        },
        {
         "name": "Title",
         "rawType": "object",
         "type": "string"
        },
        {
         "name": "Language",
         "rawType": "object",
         "type": "string"
        },
        {
         "name": "Bank",
         "rawType": "object",
         "type": "string"
        },
        {
         "name": "AccountType",
         "rawType": "object",
         "type": "string"
        },
        {
         "name": "MaritalStatus",
         "rawType": "object",
         "type": "string"
        },
        {
         "name": "Gender",
         "rawType": "object",
         "type": "string"
        },
        {
         "name": "Country",
         "rawType": "object",
         "type": "string"
        },
        {
         "name": "Province",
         "rawType": "object",
         "type": "string"
        },
        {
         "name": "PostalCode",
         "rawType": "int64",
         "type": "integer"
        },
        {
         "name": "MainCrestaZone",
         "rawType": "object",
         "type": "string"
        },
        {
         "name": "SubCrestaZone",
         "rawType": "object",
         "type": "string"
        },
        {
         "name": "ItemType",
         "rawType": "object",
         "type": "string"
        },
        {
         "name": "mmcode",
         "rawType": "float64",
         "type": "float"
        },
        {
         "name": "VehicleType",
         "rawType": "object",
         "type": "string"
        },
        {
         "name": "RegistrationYear",
         "rawType": "int64",
         "type": "integer"
        },
        {
         "name": "make",
         "rawType": "object",
         "type": "string"
        },
        {
         "name": "Model",
         "rawType": "object",
         "type": "string"
        },
        {
         "name": "Cylinders",
         "rawType": "float64",
         "type": "float"
        },
        {
         "name": "cubiccapacity",
         "rawType": "float64",
         "type": "float"
        },
        {
         "name": "kilowatts",
         "rawType": "float64",
         "type": "float"
        },
        {
         "name": "bodytype",
         "rawType": "object",
         "type": "string"
        },
        {
         "name": "NumberOfDoors",
         "rawType": "float64",
         "type": "float"
        },
        {
         "name": "VehicleIntroDate",
         "rawType": "object",
         "type": "string"
        },
        {
         "name": "CustomValueEstimate",
         "rawType": "float64",
         "type": "float"
        },
        {
         "name": "AlarmImmobiliser",
         "rawType": "object",
         "type": "string"
        },
        {
         "name": "TrackingDevice",
         "rawType": "object",
         "type": "string"
        },
        {
         "name": "CapitalOutstanding",
         "rawType": "object",
         "type": "unknown"
        },
        {
         "name": "NewVehicle",
         "rawType": "object",
         "type": "string"
        },
        {
         "name": "WrittenOff",
         "rawType": "object",
         "type": "unknown"
        },
        {
         "name": "Rebuilt",
         "rawType": "object",
         "type": "unknown"
        },
        {
         "name": "Converted",
         "rawType": "object",
         "type": "unknown"
        },
        {
         "name": "CrossBorder",
         "rawType": "object",
         "type": "unknown"
        },
        {
         "name": "NumberOfVehiclesInFleet",
         "rawType": "float64",
         "type": "float"
        },
        {
         "name": "SumInsured",
         "rawType": "float64",
         "type": "float"
        },
        {
         "name": "TermFrequency",
         "rawType": "object",
         "type": "string"
        },
        {
         "name": "CalculatedPremiumPerTerm",
         "rawType": "float64",
         "type": "float"
        },
        {
         "name": "ExcessSelected",
         "rawType": "object",
         "type": "string"
        },
        {
         "name": "CoverCategory",
         "rawType": "object",
         "type": "string"
        },
        {
         "name": "CoverType",
         "rawType": "object",
         "type": "string"
        },
        {
         "name": "CoverGroup",
         "rawType": "object",
         "type": "string"
        },
        {
         "name": "Section",
         "rawType": "object",
         "type": "string"
        },
        {
         "name": "Product",
         "rawType": "object",
         "type": "string"
        },
        {
         "name": "StatutoryClass",
         "rawType": "object",
         "type": "string"
        },
        {
         "name": "StatutoryRiskType",
         "rawType": "object",
         "type": "string"
        },
        {
         "name": "TotalPremium",
         "rawType": "float64",
         "type": "float"
        },
        {
         "name": "TotalClaims",
         "rawType": "float64",
         "type": "float"
        }
       ],
       "ref": "e9cf0185-1722-478b-842e-9a8b97933745",
       "rows": [
        [
         "0",
         "145249",
         "12827",
         "01/03/2015 0:00",
         "True",
         "  ",
         "Close Corporation",
         "Mr",
         "English",
         "First National Bank",
         "Current account",
         "Not specified",
         "Not specified",
         "South Africa",
         "Gauteng",
         "1459",
         "Rand East",
         "Rand East",
         "Mobility - Motor",
         "44069150.0",
         "Passenger Vehicle",
         "2004",
         "MERCEDES-BENZ",
         "E 240",
         "6.0",
         "2597.0",
         "130.0",
         "S/D",
         "4.0",
         "Jun-02",
         "119300.0",
         "Yes",
         "No",
         "119300",
         "More than 6 months",
         null,
         null,
         null,
         null,
         null,
         "0.01",
         "Monthly",
         "25.0",
         "Mobility - Windscreen",
         "Windscreen",
         "Windscreen",
         "Comprehensive - Taxi",
         "Motor Comprehensive",
         "Mobility Metered Taxis: Monthly",
         "Commercial",
         "IFRS Constant",
         "21.92982456",
         "0.0"
        ],
        [
         "1",
         "145249",
         "12827",
         "01/05/2015 0:00",
         "True",
         "  ",
         "Close Corporation",
         "Mr",
         "English",
         "First National Bank",
         "Current account",
         "Not specified",
         "Not specified",
         "South Africa",
         "Gauteng",
         "1459",
         "Rand East",
         "Rand East",
         "Mobility - Motor",
         "44069150.0",
         "Passenger Vehicle",
         "2004",
         "MERCEDES-BENZ",
         "E 240",
         "6.0",
         "2597.0",
         "130.0",
         "S/D",
         "4.0",
         "Jun-02",
         "119300.0",
         "Yes",
         "No",
         "119300",
         "More than 6 months",
         null,
         null,
         null,
         null,
         null,
         "0.01",
         "Monthly",
         "25.0",
         "Mobility - Windscreen",
         "Windscreen",
         "Windscreen",
         "Comprehensive - Taxi",
         "Motor Comprehensive",
         "Mobility Metered Taxis: Monthly",
         "Commercial",
         "IFRS Constant",
         "21.92982456",
         "0.0"
        ],
        [
         "2",
         "145249",
         "12827",
         "01/07/2015 0:00",
         "True",
         "  ",
         "Close Corporation",
         "Mr",
         "English",
         "First National Bank",
         "Current account",
         "Not specified",
         "Not specified",
         "South Africa",
         "Gauteng",
         "1459",
         "Rand East",
         "Rand East",
         "Mobility - Motor",
         "44069150.0",
         "Passenger Vehicle",
         "2004",
         "MERCEDES-BENZ",
         "E 240",
         "6.0",
         "2597.0",
         "130.0",
         "S/D",
         "4.0",
         "Jun-02",
         "119300.0",
         "Yes",
         "No",
         "119300",
         "More than 6 months",
         null,
         null,
         null,
         null,
         null,
         "0.01",
         "Monthly",
         "25.0",
         "Mobility - Windscreen",
         "Windscreen",
         "Windscreen",
         "Comprehensive - Taxi",
         "Motor Comprehensive",
         "Mobility Metered Taxis: Monthly",
         "Commercial",
         "IFRS Constant",
         "0.0",
         "0.0"
        ],
        [
         "3",
         "145255",
         "12827",
         "01/05/2015 0:00",
         "True",
         "  ",
         "Close Corporation",
         "Mr",
         "English",
         "First National Bank",
         "Current account",
         "Not specified",
         "Not specified",
         "South Africa",
         "Gauteng",
         "1459",
         "Rand East",
         "Rand East",
         "Mobility - Motor",
         "44069150.0",
         "Passenger Vehicle",
         "2004",
         "MERCEDES-BENZ",
         "E 240",
         "6.0",
         "2597.0",
         "130.0",
         "S/D",
         "4.0",
         "Jun-02",
         "119300.0",
         "Yes",
         "No",
         "119300",
         "More than 6 months",
         null,
         null,
         null,
         null,
         null,
         "119300.0",
         "Monthly",
         "584.6468",
         "Mobility - Metered Taxis - R2000",
         "Own damage",
         "Own Damage",
         "Comprehensive - Taxi",
         "Motor Comprehensive",
         "Mobility Metered Taxis: Monthly",
         "Commercial",
         "IFRS Constant",
         "512.8480702",
         "0.0"
        ],
        [
         "4",
         "145255",
         "12827",
         "01/07/2015 0:00",
         "True",
         "  ",
         "Close Corporation",
         "Mr",
         "English",
         "First National Bank",
         "Current account",
         "Not specified",
         "Not specified",
         "South Africa",
         "Gauteng",
         "1459",
         "Rand East",
         "Rand East",
         "Mobility - Motor",
         "44069150.0",
         "Passenger Vehicle",
         "2004",
         "MERCEDES-BENZ",
         "E 240",
         "6.0",
         "2597.0",
         "130.0",
         "S/D",
         "4.0",
         "Jun-02",
         "119300.0",
         "Yes",
         "No",
         "119300",
         "More than 6 months",
         null,
         null,
         null,
         null,
         null,
         "119300.0",
         "Monthly",
         "584.6468",
         "Mobility - Metered Taxis - R2000",
         "Own damage",
         "Own Damage",
         "Comprehensive - Taxi",
         "Motor Comprehensive",
         "Mobility Metered Taxis: Monthly",
         "Commercial",
         "IFRS Constant",
         "0.0",
         "0.0"
        ]
       ],
       "shape": {
        "columns": 52,
        "rows": 5
       }
      },
      "text/html": [
       "<div>\n",
       "<style scoped>\n",
       "    .dataframe tbody tr th:only-of-type {\n",
       "        vertical-align: middle;\n",
       "    }\n",
       "\n",
       "    .dataframe tbody tr th {\n",
       "        vertical-align: top;\n",
       "    }\n",
       "\n",
       "    .dataframe thead th {\n",
       "        text-align: right;\n",
       "    }\n",
       "</style>\n",
       "<table border=\"1\" class=\"dataframe\">\n",
       "  <thead>\n",
       "    <tr style=\"text-align: right;\">\n",
       "      <th></th>\n",
       "      <th>UnderwrittenCoverID</th>\n",
       "      <th>PolicyID</th>\n",
       "      <th>TransactionMonth</th>\n",
       "      <th>IsVATRegistered</th>\n",
       "      <th>Citizenship</th>\n",
       "      <th>LegalType</th>\n",
       "      <th>Title</th>\n",
       "      <th>Language</th>\n",
       "      <th>Bank</th>\n",
       "      <th>AccountType</th>\n",
       "      <th>...</th>\n",
       "      <th>ExcessSelected</th>\n",
       "      <th>CoverCategory</th>\n",
       "      <th>CoverType</th>\n",
       "      <th>CoverGroup</th>\n",
       "      <th>Section</th>\n",
       "      <th>Product</th>\n",
       "      <th>StatutoryClass</th>\n",
       "      <th>StatutoryRiskType</th>\n",
       "      <th>TotalPremium</th>\n",
       "      <th>TotalClaims</th>\n",
       "    </tr>\n",
       "  </thead>\n",
       "  <tbody>\n",
       "    <tr>\n",
       "      <th>0</th>\n",
       "      <td>145249</td>\n",
       "      <td>12827</td>\n",
       "      <td>01/03/2015 0:00</td>\n",
       "      <td>True</td>\n",
       "      <td></td>\n",
       "      <td>Close Corporation</td>\n",
       "      <td>Mr</td>\n",
       "      <td>English</td>\n",
       "      <td>First National Bank</td>\n",
       "      <td>Current account</td>\n",
       "      <td>...</td>\n",
       "      <td>Mobility - Windscreen</td>\n",
       "      <td>Windscreen</td>\n",
       "      <td>Windscreen</td>\n",
       "      <td>Comprehensive - Taxi</td>\n",
       "      <td>Motor Comprehensive</td>\n",
       "      <td>Mobility Metered Taxis: Monthly</td>\n",
       "      <td>Commercial</td>\n",
       "      <td>IFRS Constant</td>\n",
       "      <td>21.929825</td>\n",
       "      <td>0.0</td>\n",
       "    </tr>\n",
       "    <tr>\n",
       "      <th>1</th>\n",
       "      <td>145249</td>\n",
       "      <td>12827</td>\n",
       "      <td>01/05/2015 0:00</td>\n",
       "      <td>True</td>\n",
       "      <td></td>\n",
       "      <td>Close Corporation</td>\n",
       "      <td>Mr</td>\n",
       "      <td>English</td>\n",
       "      <td>First National Bank</td>\n",
       "      <td>Current account</td>\n",
       "      <td>...</td>\n",
       "      <td>Mobility - Windscreen</td>\n",
       "      <td>Windscreen</td>\n",
       "      <td>Windscreen</td>\n",
       "      <td>Comprehensive - Taxi</td>\n",
       "      <td>Motor Comprehensive</td>\n",
       "      <td>Mobility Metered Taxis: Monthly</td>\n",
       "      <td>Commercial</td>\n",
       "      <td>IFRS Constant</td>\n",
       "      <td>21.929825</td>\n",
       "      <td>0.0</td>\n",
       "    </tr>\n",
       "    <tr>\n",
       "      <th>2</th>\n",
       "      <td>145249</td>\n",
       "      <td>12827</td>\n",
       "      <td>01/07/2015 0:00</td>\n",
       "      <td>True</td>\n",
       "      <td></td>\n",
       "      <td>Close Corporation</td>\n",
       "      <td>Mr</td>\n",
       "      <td>English</td>\n",
       "      <td>First National Bank</td>\n",
       "      <td>Current account</td>\n",
       "      <td>...</td>\n",
       "      <td>Mobility - Windscreen</td>\n",
       "      <td>Windscreen</td>\n",
       "      <td>Windscreen</td>\n",
       "      <td>Comprehensive - Taxi</td>\n",
       "      <td>Motor Comprehensive</td>\n",
       "      <td>Mobility Metered Taxis: Monthly</td>\n",
       "      <td>Commercial</td>\n",
       "      <td>IFRS Constant</td>\n",
       "      <td>0.000000</td>\n",
       "      <td>0.0</td>\n",
       "    </tr>\n",
       "    <tr>\n",
       "      <th>3</th>\n",
       "      <td>145255</td>\n",
       "      <td>12827</td>\n",
       "      <td>01/05/2015 0:00</td>\n",
       "      <td>True</td>\n",
       "      <td></td>\n",
       "      <td>Close Corporation</td>\n",
       "      <td>Mr</td>\n",
       "      <td>English</td>\n",
       "      <td>First National Bank</td>\n",
       "      <td>Current account</td>\n",
       "      <td>...</td>\n",
       "      <td>Mobility - Metered Taxis - R2000</td>\n",
       "      <td>Own damage</td>\n",
       "      <td>Own Damage</td>\n",
       "      <td>Comprehensive - Taxi</td>\n",
       "      <td>Motor Comprehensive</td>\n",
       "      <td>Mobility Metered Taxis: Monthly</td>\n",
       "      <td>Commercial</td>\n",
       "      <td>IFRS Constant</td>\n",
       "      <td>512.848070</td>\n",
       "      <td>0.0</td>\n",
       "    </tr>\n",
       "    <tr>\n",
       "      <th>4</th>\n",
       "      <td>145255</td>\n",
       "      <td>12827</td>\n",
       "      <td>01/07/2015 0:00</td>\n",
       "      <td>True</td>\n",
       "      <td></td>\n",
       "      <td>Close Corporation</td>\n",
       "      <td>Mr</td>\n",
       "      <td>English</td>\n",
       "      <td>First National Bank</td>\n",
       "      <td>Current account</td>\n",
       "      <td>...</td>\n",
       "      <td>Mobility - Metered Taxis - R2000</td>\n",
       "      <td>Own damage</td>\n",
       "      <td>Own Damage</td>\n",
       "      <td>Comprehensive - Taxi</td>\n",
       "      <td>Motor Comprehensive</td>\n",
       "      <td>Mobility Metered Taxis: Monthly</td>\n",
       "      <td>Commercial</td>\n",
       "      <td>IFRS Constant</td>\n",
       "      <td>0.000000</td>\n",
       "      <td>0.0</td>\n",
       "    </tr>\n",
       "  </tbody>\n",
       "</table>\n",
       "<p>5 rows × 52 columns</p>\n",
       "</div>"
      ],
      "text/plain": [
       "   UnderwrittenCoverID  PolicyID TransactionMonth  IsVATRegistered  \\\n",
       "0               145249     12827  01/03/2015 0:00             True   \n",
       "1               145249     12827  01/05/2015 0:00             True   \n",
       "2               145249     12827  01/07/2015 0:00             True   \n",
       "3               145255     12827  01/05/2015 0:00             True   \n",
       "4               145255     12827  01/07/2015 0:00             True   \n",
       "\n",
       "  Citizenship          LegalType Title Language                 Bank  \\\n",
       "0              Close Corporation    Mr  English  First National Bank   \n",
       "1              Close Corporation    Mr  English  First National Bank   \n",
       "2              Close Corporation    Mr  English  First National Bank   \n",
       "3              Close Corporation    Mr  English  First National Bank   \n",
       "4              Close Corporation    Mr  English  First National Bank   \n",
       "\n",
       "       AccountType  ...                    ExcessSelected CoverCategory  \\\n",
       "0  Current account  ...             Mobility - Windscreen    Windscreen   \n",
       "1  Current account  ...             Mobility - Windscreen    Windscreen   \n",
       "2  Current account  ...             Mobility - Windscreen    Windscreen   \n",
       "3  Current account  ...  Mobility - Metered Taxis - R2000    Own damage   \n",
       "4  Current account  ...  Mobility - Metered Taxis - R2000    Own damage   \n",
       "\n",
       "    CoverType            CoverGroup              Section  \\\n",
       "0  Windscreen  Comprehensive - Taxi  Motor Comprehensive   \n",
       "1  Windscreen  Comprehensive - Taxi  Motor Comprehensive   \n",
       "2  Windscreen  Comprehensive - Taxi  Motor Comprehensive   \n",
       "3  Own Damage  Comprehensive - Taxi  Motor Comprehensive   \n",
       "4  Own Damage  Comprehensive - Taxi  Motor Comprehensive   \n",
       "\n",
       "                           Product StatutoryClass StatutoryRiskType  \\\n",
       "0  Mobility Metered Taxis: Monthly     Commercial     IFRS Constant   \n",
       "1  Mobility Metered Taxis: Monthly     Commercial     IFRS Constant   \n",
       "2  Mobility Metered Taxis: Monthly     Commercial     IFRS Constant   \n",
       "3  Mobility Metered Taxis: Monthly     Commercial     IFRS Constant   \n",
       "4  Mobility Metered Taxis: Monthly     Commercial     IFRS Constant   \n",
       "\n",
       "   TotalPremium TotalClaims  \n",
       "0     21.929825         0.0  \n",
       "1     21.929825         0.0  \n",
       "2      0.000000         0.0  \n",
       "3    512.848070         0.0  \n",
       "4      0.000000         0.0  \n",
       "\n",
       "[5 rows x 52 columns]"
      ]
     },
     "execution_count": 4,
     "metadata": {},
     "output_type": "execute_result"
    }
   ],
   "source": [
    "# Cell 2: Load Data\n",
    "data_path = \"../../data/MachineLearningRating_v3.csv\"\n",
    "df = load_data(data_path)\n",
    "df.head()"
   ]
  },
  {
   "cell_type": "code",
   "execution_count": 5,
   "id": "33fb500b",
   "metadata": {},
   "outputs": [
    {
     "name": "stdout",
     "output_type": "stream",
     "text": [
      "<class 'pandas.core.frame.DataFrame'>\n",
      "RangeIndex: 1000098 entries, 0 to 1000097\n",
      "Data columns (total 52 columns):\n",
      " #   Column                    Non-Null Count    Dtype  \n",
      "---  ------                    --------------    -----  \n",
      " 0   UnderwrittenCoverID       1000098 non-null  int64  \n",
      " 1   PolicyID                  1000098 non-null  int64  \n",
      " 2   TransactionMonth          1000098 non-null  object \n",
      " 3   IsVATRegistered           1000098 non-null  bool   \n",
      " 4   Citizenship               1000098 non-null  object \n",
      " 5   LegalType                 1000098 non-null  object \n",
      " 6   Title                     1000098 non-null  object \n",
      " 7   Language                  1000098 non-null  object \n",
      " 8   Bank                      854137 non-null   object \n",
      " 9   AccountType               959866 non-null   object \n",
      " 10  MaritalStatus             991839 non-null   object \n",
      " 11  Gender                    990562 non-null   object \n",
      " 12  Country                   1000098 non-null  object \n",
      " 13  Province                  1000098 non-null  object \n",
      " 14  PostalCode                1000098 non-null  int64  \n",
      " 15  MainCrestaZone            1000098 non-null  object \n",
      " 16  SubCrestaZone             1000098 non-null  object \n",
      " 17  ItemType                  1000098 non-null  object \n",
      " 18  mmcode                    999546 non-null   float64\n",
      " 19  VehicleType               999546 non-null   object \n",
      " 20  RegistrationYear          1000098 non-null  int64  \n",
      " 21  make                      999546 non-null   object \n",
      " 22  Model                     999546 non-null   object \n",
      " 23  Cylinders                 999546 non-null   float64\n",
      " 24  cubiccapacity             999546 non-null   float64\n",
      " 25  kilowatts                 999546 non-null   float64\n",
      " 26  bodytype                  999546 non-null   object \n",
      " 27  NumberOfDoors             999546 non-null   float64\n",
      " 28  VehicleIntroDate          999546 non-null   object \n",
      " 29  CustomValueEstimate       220456 non-null   float64\n",
      " 30  AlarmImmobiliser          1000098 non-null  object \n",
      " 31  TrackingDevice            1000098 non-null  object \n",
      " 32  CapitalOutstanding        1000096 non-null  object \n",
      " 33  NewVehicle                846803 non-null   object \n",
      " 34  WrittenOff                358197 non-null   object \n",
      " 35  Rebuilt                   358197 non-null   object \n",
      " 36  Converted                 358197 non-null   object \n",
      " 37  CrossBorder               698 non-null      object \n",
      " 38  NumberOfVehiclesInFleet   0 non-null        float64\n",
      " 39  SumInsured                1000098 non-null  float64\n",
      " 40  TermFrequency             1000098 non-null  object \n",
      " 41  CalculatedPremiumPerTerm  1000098 non-null  float64\n",
      " 42  ExcessSelected            1000098 non-null  object \n",
      " 43  CoverCategory             1000098 non-null  object \n",
      " 44  CoverType                 1000098 non-null  object \n",
      " 45  CoverGroup                1000098 non-null  object \n",
      " 46  Section                   1000098 non-null  object \n",
      " 47  Product                   1000098 non-null  object \n",
      " 48  StatutoryClass            1000098 non-null  object \n",
      " 49  StatutoryRiskType         1000098 non-null  object \n",
      " 50  TotalPremium              1000098 non-null  float64\n",
      " 51  TotalClaims               1000098 non-null  float64\n",
      "dtypes: bool(1), float64(11), int64(4), object(36)\n",
      "memory usage: 390.1+ MB\n",
      "UnderwrittenCoverID               0\n",
      "PolicyID                          0\n",
      "TransactionMonth                  0\n",
      "IsVATRegistered                   0\n",
      "Citizenship                       0\n",
      "LegalType                         0\n",
      "Title                             0\n",
      "Language                          0\n",
      "Bank                         145961\n",
      "AccountType                   40232\n",
      "MaritalStatus                  8259\n",
      "Gender                         9536\n",
      "Country                           0\n",
      "Province                          0\n",
      "PostalCode                        0\n",
      "MainCrestaZone                    0\n",
      "SubCrestaZone                     0\n",
      "ItemType                          0\n",
      "mmcode                          552\n",
      "VehicleType                     552\n",
      "RegistrationYear                  0\n",
      "make                            552\n",
      "Model                           552\n",
      "Cylinders                       552\n",
      "cubiccapacity                   552\n",
      "kilowatts                       552\n",
      "bodytype                        552\n",
      "NumberOfDoors                   552\n",
      "VehicleIntroDate                552\n",
      "CustomValueEstimate          779642\n",
      "AlarmImmobiliser                  0\n",
      "TrackingDevice                    0\n",
      "CapitalOutstanding                2\n",
      "NewVehicle                   153295\n",
      "WrittenOff                   641901\n",
      "Rebuilt                      641901\n",
      "Converted                    641901\n",
      "CrossBorder                  999400\n",
      "NumberOfVehiclesInFleet     1000098\n",
      "SumInsured                        0\n",
      "TermFrequency                     0\n",
      "CalculatedPremiumPerTerm          0\n",
      "ExcessSelected                    0\n",
      "CoverCategory                     0\n",
      "CoverType                         0\n",
      "CoverGroup                        0\n",
      "Section                           0\n",
      "Product                           0\n",
      "StatutoryClass                    0\n",
      "StatutoryRiskType                 0\n",
      "TotalPremium                      0\n",
      "TotalClaims                       0\n",
      "dtype: int64\n"
     ]
    }
   ],
   "source": [
    "# Cell 3: Data Summary\n",
    "desc, info, nulls = summarize_data(df)\n",
    "print(nulls)"
   ]
  },
  {
   "cell_type": "code",
   "execution_count": 6,
   "id": "53a106ba",
   "metadata": {},
   "outputs": [
    {
     "name": "stderr",
     "output_type": "stream",
     "text": [
      "/Users/yosephabate/Documents/PERSONAL PROFESSIONAL/KIFIYA/WEEK 3/TECHNICAL/GITHUB/insurance-challenge-week/.venv/lib/python3.12/site-packages/numpy/_core/_methods.py:52: RuntimeWarning: invalid value encountered in reduce\n",
      "  return umr_sum(a, axis, dtype, out, keepdims, initial, where)\n"
     ]
    },
    {
     "data": {
      "application/vnd.microsoft.datawrangler.viewer.v0+json": {
       "columns": [
        {
         "name": "index",
         "rawType": "object",
         "type": "string"
        },
        {
         "name": "LossRatio",
         "rawType": "float64",
         "type": "float"
        }
       ],
       "ref": "cf54b12b-36f7-4537-8e12-8bc21a31bdca",
       "rows": [
        [
         "count",
         "618614.0"
        ],
        [
         "mean",
         null
        ],
        [
         "std",
         null
        ],
        [
         "min",
         "-inf"
        ],
        [
         "25%",
         "0.0"
        ],
        [
         "50%",
         "0.0"
        ],
        [
         "75%",
         "0.0"
        ],
        [
         "max",
         "inf"
        ]
       ],
       "shape": {
        "columns": 1,
        "rows": 8
       }
      },
      "text/plain": [
       "count    618614.0\n",
       "mean          NaN\n",
       "std           NaN\n",
       "min          -inf\n",
       "25%           0.0\n",
       "50%           0.0\n",
       "75%           0.0\n",
       "max           inf\n",
       "Name: LossRatio, dtype: float64"
      ]
     },
     "execution_count": 6,
     "metadata": {},
     "output_type": "execute_result"
    }
   ],
   "source": [
    "# Cell 4: Create Loss Ratio Column\n",
    "df['LossRatio'] = df['TotalClaims'] / df['TotalPremium']\n",
    "df['LossRatio'].describe()"
   ]
  },
  {
   "cell_type": "code",
   "execution_count": 7,
   "id": "9c9df56b",
   "metadata": {},
   "outputs": [],
   "source": [
    "# Cell 5: Loss Ratio by Province\n",
    "plot_loss_ratio_by_group(\n",
    "    df, group_col=\"Province\",\n",
    "    output_path=\"../../outputs/task-1/plots/loss_ratio_by_province.png\"\n",
    ")"
   ]
  },
  {
   "cell_type": "code",
   "execution_count": 8,
   "id": "2ad7e89b",
   "metadata": {},
   "outputs": [],
   "source": [
    "# Cell 6: Distributions\n",
    "plot_distribution(df, \"TotalPremium\",\n",
    "                  \"../../outputs/task-1/plots/dist_total_premium.png\")\n",
    "plot_distribution(df, \"TotalClaims\",\n",
    "                  \"../../outputs/task-1/plots/dist_total_claims.png\")"
   ]
  },
  {
   "cell_type": "code",
   "execution_count": 9,
   "id": "b88aea76",
   "metadata": {},
   "outputs": [],
   "source": [
    "# Cell 7: Scatter Plot\n",
    "plot_scatter(df, \"TotalPremium\", \"TotalClaims\",\n",
    "             \"../../outputs/task-1/plots/premium_vs_claims.png\")"
   ]
  },
  {
   "cell_type": "code",
   "execution_count": 10,
   "id": "49d13b7a",
   "metadata": {},
   "outputs": [],
   "source": [
    "# Cell 8: Outlier Detection\n",
    "plot_boxplot(df, \"TotalClaims\", \"../../outputs/task-1/plots/boxplot_total_claims.png\")"
   ]
  },
  {
   "cell_type": "code",
   "execution_count": null,
   "id": "e639afba",
   "metadata": {},
   "outputs": [],
   "source": []
  }
 ],
 "metadata": {
  "kernelspec": {
   "display_name": ".venv",
   "language": "python",
   "name": "python3"
  },
  "language_info": {
   "codemirror_mode": {
    "name": "ipython",
    "version": 3
   },
   "file_extension": ".py",
   "mimetype": "text/x-python",
   "name": "python",
   "nbconvert_exporter": "python",
   "pygments_lexer": "ipython3",
   "version": "3.12.2"
  }
 },
 "nbformat": 4,
 "nbformat_minor": 5
}
